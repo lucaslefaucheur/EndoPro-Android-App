{
 "cells": [
  {
   "cell_type": "code",
   "execution_count": 5,
   "metadata": {},
   "outputs": [],
   "source": [
    "import requests\n",
    "import datetime\n",
    "import pandas as pd"
   ]
  },
  {
   "cell_type": "code",
   "execution_count": 7,
   "metadata": {},
   "outputs": [],
   "source": [
    "with(open('weather.csv','w')) as file:\n",
    "    header = ['Date','Time','Date epoch','City','Temperature','Wind speed','Precipitation','Humidity']\n",
    "    line = '{0},{1},{2},{3},{4},{5},{6},{7}\\n'.format(*header)\n",
    "    file.write(line)\n",
    "    month = [str(x) for x in range(4,10)]\n",
    "    for m in month:\n",
    "        url = 'https://api.worldweatheronline.com/premium/v1/past-weather.ashx?key=5cc8bb3a2dbd47bb942200929182911&q=Montreal&format=json&extra=utcDateTime&date=2018-'+m+'-15&enddate=2018-'+str(int(m)+1)+'-15&tp=1'\n",
    "        r = requests.get(url)\n",
    "        json_data = r.json()\n",
    "        \n",
    "        weather = json_data['data']['weather']\n",
    "        for w in weather:\n",
    "            hourly = w['hourly']\n",
    "            for h in hourly:\n",
    "                info = list()\n",
    "                \n",
    "                date = h['UTCdate']\n",
    "                info.append(date)\n",
    "                time = h['UTCtime']\n",
    "                info.append(time[:-2]) if time != '0' else info.append('0')\n",
    "                \n",
    "                date_component = [int(x) for x in date.split('-')]\n",
    "                info.append(int(datetime.datetime(*date_component).timestamp()))\n",
    "                \n",
    "                info.append(json_data['data']['request'][0]['query'].split(',')[0])\n",
    "                \n",
    "                info.append(int(h['tempC']))\n",
    "        \n",
    "                info.append(int(h['windspeedKmph']))\n",
    "                info.append(float(h['precipMM']))\n",
    "                info.append(int(h['humidity']))\n",
    "            \n",
    "                line = '{0},{1},{2},{3},{4},{5},{6},{7}\\n'.format(*info)\n",
    "                file.write(line)"
   ]
  },
  {
   "cell_type": "code",
   "execution_count": null,
   "metadata": {},
   "outputs": [],
   "source": []
  }
 ],
 "metadata": {
  "kernelspec": {
   "display_name": "Python 3",
   "language": "python",
   "name": "python3"
  },
  "language_info": {
   "codemirror_mode": {
    "name": "ipython",
    "version": 3
   },
   "file_extension": ".py",
   "mimetype": "text/x-python",
   "name": "python",
   "nbconvert_exporter": "python",
   "pygments_lexer": "ipython3",
   "version": "3.7.1"
  }
 },
 "nbformat": 4,
 "nbformat_minor": 2
}
