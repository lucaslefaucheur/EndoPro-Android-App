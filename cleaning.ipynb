{
 "cells": [
  {
   "cell_type": "code",
   "execution_count": 1,
   "metadata": {},
   "outputs": [],
   "source": [
    "import pandas as pd\n",
    "import numpy as np\n",
    "import matplotlib.pyplot as plt"
   ]
  },
  {
   "cell_type": "code",
   "execution_count": 2,
   "metadata": {},
   "outputs": [],
   "source": [
    "df_workout = pd.read_csv('workout.csv')\n",
    "df_weather = pd.read_csv('weather.csv')"
   ]
  },
  {
   "cell_type": "markdown",
   "metadata": {},
   "source": [
    "# Cleaning workout"
   ]
  },
  {
   "cell_type": "markdown",
   "metadata": {},
   "source": [
    "### Extract Month, Day and Hour from the workouts"
   ]
  },
  {
   "cell_type": "markdown",
   "metadata": {},
   "source": [
    "#### Calculate start and end hour of workouts"
   ]
  },
  {
   "cell_type": "code",
   "execution_count": 3,
   "metadata": {},
   "outputs": [],
   "source": [
    "df_workout['Start time'] = pd.to_datetime(df_workout['Start time']).dt.floor('1H')\n",
    "df_workout['End time'] = (df_workout['Start time'] + df_workout['Duration'].apply(lambda x: np.timedelta64(int(x),'s'))).dt.ceil('1H')"
   ]
  },
  {
   "cell_type": "markdown",
   "metadata": {},
   "source": [
    "### Calculate rest days"
   ]
  },
  {
   "cell_type": "code",
   "execution_count": 4,
   "metadata": {},
   "outputs": [],
   "source": [
    "avg_rest_day = 0\n",
    "for i in range(1, len(df_workout)):\n",
    "    rest_day = (df_workout.loc[i - 1, 'End time'] - df_workout.loc[i, 'Start time']).days\n",
    "    df_workout.loc[i,'Rest day'] = rest_day\n",
    "    avg_rest_day += rest_day\n",
    "    \n",
    "avg_rest_day /= (len(df_workout) - 1)\n",
    "df_workout.loc[0, 'Rest day'] = avg_rest_day\n",
    "df_workout['Rest day'] = df_workout['Rest day'].apply(lambda x: int(x))"
   ]
  },
  {
   "cell_type": "code",
   "execution_count": 5,
   "metadata": {},
   "outputs": [
    {
     "data": {
      "text/html": [
       "<div>\n",
       "<style scoped>\n",
       "    .dataframe tbody tr th:only-of-type {\n",
       "        vertical-align: middle;\n",
       "    }\n",
       "\n",
       "    .dataframe tbody tr th {\n",
       "        vertical-align: top;\n",
       "    }\n",
       "\n",
       "    .dataframe thead th {\n",
       "        text-align: right;\n",
       "    }\n",
       "</style>\n",
       "<table border=\"1\" class=\"dataframe\">\n",
       "  <thead>\n",
       "    <tr style=\"text-align: right;\">\n",
       "      <th></th>\n",
       "      <th>Average speed</th>\n",
       "      <th>Max speed</th>\n",
       "      <th>Distance</th>\n",
       "      <th>Duration</th>\n",
       "      <th>Start time</th>\n",
       "      <th>End time</th>\n",
       "      <th>Rest day</th>\n",
       "    </tr>\n",
       "  </thead>\n",
       "  <tbody>\n",
       "    <tr>\n",
       "      <th>0</th>\n",
       "      <td>26.594017</td>\n",
       "      <td>42.7476</td>\n",
       "      <td>38.649971</td>\n",
       "      <td>5232.0</td>\n",
       "      <td>2018-10-14 14:00:00</td>\n",
       "      <td>2018-10-14 16:00:00</td>\n",
       "      <td>1</td>\n",
       "    </tr>\n",
       "    <tr>\n",
       "      <th>1</th>\n",
       "      <td>23.805997</td>\n",
       "      <td>38.8814</td>\n",
       "      <td>38.803776</td>\n",
       "      <td>5868.0</td>\n",
       "      <td>2018-10-12 16:00:00</td>\n",
       "      <td>2018-10-12 18:00:00</td>\n",
       "      <td>2</td>\n",
       "    </tr>\n",
       "    <tr>\n",
       "      <th>2</th>\n",
       "      <td>25.046723</td>\n",
       "      <td>41.6592</td>\n",
       "      <td>38.662399</td>\n",
       "      <td>5557.0</td>\n",
       "      <td>2018-10-09 18:00:00</td>\n",
       "      <td>2018-10-09 20:00:00</td>\n",
       "      <td>3</td>\n",
       "    </tr>\n",
       "    <tr>\n",
       "      <th>3</th>\n",
       "      <td>25.198437</td>\n",
       "      <td>44.5750</td>\n",
       "      <td>38.700600</td>\n",
       "      <td>5529.0</td>\n",
       "      <td>2018-10-07 17:00:00</td>\n",
       "      <td>2018-10-07 19:00:00</td>\n",
       "      <td>2</td>\n",
       "    </tr>\n",
       "    <tr>\n",
       "      <th>4</th>\n",
       "      <td>25.086550</td>\n",
       "      <td>42.8115</td>\n",
       "      <td>38.668129</td>\n",
       "      <td>5549.0</td>\n",
       "      <td>2018-10-06 18:00:00</td>\n",
       "      <td>2018-10-06 20:00:00</td>\n",
       "      <td>1</td>\n",
       "    </tr>\n",
       "  </tbody>\n",
       "</table>\n",
       "</div>"
      ],
      "text/plain": [
       "   Average speed  Max speed   Distance  Duration          Start time  \\\n",
       "0      26.594017    42.7476  38.649971    5232.0 2018-10-14 14:00:00   \n",
       "1      23.805997    38.8814  38.803776    5868.0 2018-10-12 16:00:00   \n",
       "2      25.046723    41.6592  38.662399    5557.0 2018-10-09 18:00:00   \n",
       "3      25.198437    44.5750  38.700600    5529.0 2018-10-07 17:00:00   \n",
       "4      25.086550    42.8115  38.668129    5549.0 2018-10-06 18:00:00   \n",
       "\n",
       "             End time  Rest day  \n",
       "0 2018-10-14 16:00:00         1  \n",
       "1 2018-10-12 18:00:00         2  \n",
       "2 2018-10-09 20:00:00         3  \n",
       "3 2018-10-07 19:00:00         2  \n",
       "4 2018-10-06 20:00:00         1  "
      ]
     },
     "execution_count": 5,
     "metadata": {},
     "output_type": "execute_result"
    }
   ],
   "source": [
    "df_workout.head()"
   ]
  },
  {
   "cell_type": "markdown",
   "metadata": {},
   "source": [
    "# Cleaning weather"
   ]
  },
  {
   "cell_type": "code",
   "execution_count": 6,
   "metadata": {},
   "outputs": [],
   "source": [
    "df_weather = df_weather.drop(['City', 'Date epoch'], axis=1);"
   ]
  },
  {
   "cell_type": "code",
   "execution_count": 7,
   "metadata": {},
   "outputs": [],
   "source": [
    "df_weather['Date'] = pd.to_datetime(df_weather['Date'])"
   ]
  },
  {
   "cell_type": "code",
   "execution_count": 8,
   "metadata": {},
   "outputs": [],
   "source": [
    "for i in range(len(df_weather)):\n",
    "    df_weather.loc[i, 'Date'] = df_weather.loc[i, 'Date'] + np.timedelta64(int(df_weather.loc[i, 'Time']), 'h')"
   ]
  },
  {
   "cell_type": "code",
   "execution_count": 9,
   "metadata": {},
   "outputs": [],
   "source": [
    "df_weather = df_weather.drop(['Time'], axis=1)"
   ]
  },
  {
   "cell_type": "code",
   "execution_count": 10,
   "metadata": {},
   "outputs": [
    {
     "data": {
      "text/html": [
       "<div>\n",
       "<style scoped>\n",
       "    .dataframe tbody tr th:only-of-type {\n",
       "        vertical-align: middle;\n",
       "    }\n",
       "\n",
       "    .dataframe tbody tr th {\n",
       "        vertical-align: top;\n",
       "    }\n",
       "\n",
       "    .dataframe thead th {\n",
       "        text-align: right;\n",
       "    }\n",
       "</style>\n",
       "<table border=\"1\" class=\"dataframe\">\n",
       "  <thead>\n",
       "    <tr style=\"text-align: right;\">\n",
       "      <th></th>\n",
       "      <th>Date</th>\n",
       "      <th>Temperature</th>\n",
       "      <th>Wind speed</th>\n",
       "      <th>Precipitation</th>\n",
       "      <th>Humidity</th>\n",
       "    </tr>\n",
       "  </thead>\n",
       "  <tbody>\n",
       "    <tr>\n",
       "      <th>0</th>\n",
       "      <td>2018-04-15 03:00:00</td>\n",
       "      <td>-5</td>\n",
       "      <td>20</td>\n",
       "      <td>0.0</td>\n",
       "      <td>43</td>\n",
       "    </tr>\n",
       "    <tr>\n",
       "      <th>1</th>\n",
       "      <td>2018-04-15 04:00:00</td>\n",
       "      <td>-5</td>\n",
       "      <td>19</td>\n",
       "      <td>0.1</td>\n",
       "      <td>46</td>\n",
       "    </tr>\n",
       "    <tr>\n",
       "      <th>2</th>\n",
       "      <td>2018-04-15 05:00:00</td>\n",
       "      <td>-4</td>\n",
       "      <td>19</td>\n",
       "      <td>0.1</td>\n",
       "      <td>50</td>\n",
       "    </tr>\n",
       "    <tr>\n",
       "      <th>3</th>\n",
       "      <td>2018-04-15 06:00:00</td>\n",
       "      <td>-4</td>\n",
       "      <td>18</td>\n",
       "      <td>0.2</td>\n",
       "      <td>53</td>\n",
       "    </tr>\n",
       "    <tr>\n",
       "      <th>4</th>\n",
       "      <td>2018-04-15 07:00:00</td>\n",
       "      <td>-3</td>\n",
       "      <td>19</td>\n",
       "      <td>0.1</td>\n",
       "      <td>52</td>\n",
       "    </tr>\n",
       "  </tbody>\n",
       "</table>\n",
       "</div>"
      ],
      "text/plain": [
       "                 Date  Temperature  Wind speed  Precipitation  Humidity\n",
       "0 2018-04-15 03:00:00           -5          20            0.0        43\n",
       "1 2018-04-15 04:00:00           -5          19            0.1        46\n",
       "2 2018-04-15 05:00:00           -4          19            0.1        50\n",
       "3 2018-04-15 06:00:00           -4          18            0.2        53\n",
       "4 2018-04-15 07:00:00           -3          19            0.1        52"
      ]
     },
     "execution_count": 10,
     "metadata": {},
     "output_type": "execute_result"
    }
   ],
   "source": [
    "df_weather.head()"
   ]
  },
  {
   "cell_type": "markdown",
   "metadata": {},
   "source": [
    "# Merging workout and weather data"
   ]
  },
  {
   "cell_type": "code",
   "execution_count": 11,
   "metadata": {},
   "outputs": [],
   "source": [
    "for i in range(len(df_workout)):\n",
    "    mask = (df_weather['Date'] >= df_workout.loc[i, 'Start time']) & (df_weather['Date'] <= df_workout.loc[i, 'End time'])\n",
    "    df_workout.loc[i, 'Temperature'] = df_weather.loc[mask]['Temperature'].mean()\n",
    "    df_workout.loc[i, 'Wind speed'] = df_weather.loc[mask]['Wind speed'].mean()\n",
    "    df_workout.loc[i, 'Precipitation'] = df_weather.loc[mask]['Precipitation'].mean()\n",
    "    df_workout.loc[i, 'Humidity'] = df_weather.loc[mask]['Humidity'].mean()"
   ]
  },
  {
   "cell_type": "markdown",
   "metadata": {},
   "source": [
    "#### Remove pivot features"
   ]
  },
  {
   "cell_type": "code",
   "execution_count": 12,
   "metadata": {},
   "outputs": [],
   "source": [
    "df_workout = df_workout.drop(['End time','Max speed', 'Duration','Start time'], axis=1)"
   ]
  },
  {
   "cell_type": "code",
   "execution_count": 13,
   "metadata": {},
   "outputs": [
    {
     "name": "stdout",
     "output_type": "stream",
     "text": [
      "<class 'pandas.core.frame.DataFrame'>\n",
      "RangeIndex: 88 entries, 0 to 87\n",
      "Data columns (total 7 columns):\n",
      "Average speed    88 non-null float64\n",
      "Distance         88 non-null float64\n",
      "Rest day         88 non-null int64\n",
      "Temperature      88 non-null float64\n",
      "Wind speed       88 non-null float64\n",
      "Precipitation    88 non-null float64\n",
      "Humidity         88 non-null float64\n",
      "dtypes: float64(6), int64(1)\n",
      "memory usage: 4.9 KB\n"
     ]
    }
   ],
   "source": [
    "df_workout.info()"
   ]
  },
  {
   "cell_type": "markdown",
   "metadata": {},
   "source": [
    "# Analize data"
   ]
  },
  {
   "cell_type": "code",
   "execution_count": 24,
   "metadata": {},
   "outputs": [],
   "source": [
    "from sklearn.multioutput import MultiOutputRegressor\n",
    "from sklearn.ensemble import RandomForestRegressor\n",
    "from sklearn.model_selection import LeaveOneOut, cross_val_score, cross_val_predict\n",
    "from sklearn import metrics\n",
    "from sklearn.externals import joblib"
   ]
  },
  {
   "cell_type": "code",
   "execution_count": 25,
   "metadata": {},
   "outputs": [],
   "source": [
    "max_depth = 30\n",
    "model = MultiOutputRegressor(RandomForestRegressor(n_estimators=100,\n",
    "                                                          max_depth=max_depth,\n",
    "                                                          random_state=0))"
   ]
  },
  {
   "cell_type": "code",
   "execution_count": 26,
   "metadata": {},
   "outputs": [
    {
     "name": "stdout",
     "output_type": "stream",
     "text": [
      "(88, 5) (88, 2)\n"
     ]
    }
   ],
   "source": [
    "y = np.array([df_workout['Average speed'], df_workout['Distance']]).T\n",
    "X = df_workout.drop(['Average speed','Distance'], axis=1).values\n",
    "print(X.shape, y.shape)"
   ]
  },
  {
   "cell_type": "code",
   "execution_count": 27,
   "metadata": {},
   "outputs": [
    {
     "name": "stdout",
     "output_type": "stream",
     "text": [
      "[1.2306607761292663, 96.03891046723952]\n"
     ]
    }
   ],
   "source": [
    "square_error_sum = np.array([0.0,0.0])\n",
    "\n",
    "loo = LeaveOneOut()\n",
    "for train_index, test_index in loo.split(X):\n",
    "    X_train, X_test = X[train_index], X[test_index]\n",
    "    y_train, y_test = y[train_index], y[test_index]\n",
    "    model = model.fit(X_train, y_train)\n",
    "    predicted_y = model.predict(X_test)\n",
    "    square_error_sum += np.square(y_test[0] - predicted_y[0])\n",
    "mse = [x / X.shape[0] for x in square_error_sum]\n",
    "print(mse)"
   ]
  },
  {
   "cell_type": "code",
   "execution_count": 30,
   "metadata": {},
   "outputs": [
    {
     "data": {
      "text/plain": [
       "<matplotlib.collections.PathCollection at 0x1a23451438>"
      ]
     },
     "execution_count": 30,
     "metadata": {},
     "output_type": "execute_result"
    },
    {
     "data": {
      "image/png": "[encoded data removed]",
      "text/plain": [
       "<Figure size 432x288 with 1 Axes>"
      ]
     },
     "metadata": {
      "needs_background": "light"
     },
     "output_type": "display_data"
    }
   ],
   "source": [
    "predictions = cross_val_predict(model, df_workout, y, cv=6)\n",
    "plt.scatter(y, predictions)"
   ]
  },
  {
   "cell_type": "code",
   "execution_count": 31,
   "metadata": {},
   "outputs": [
    {
     "name": "stdout",
     "output_type": "stream",
     "text": [
      "Cross-validated scores: [0.94393588 0.96444625 0.99814098 0.99083401 0.9970861  0.99047747]\n"
     ]
    }
   ],
   "source": [
    "scores = cross_val_score(model, df_workout, y, cv=6)\n",
    "print('Cross-validated scores:', scores)"
   ]
  },
  {
   "cell_type": "code",
   "execution_count": 32,
   "metadata": {},
   "outputs": [
    {
     "name": "stdout",
     "output_type": "stream",
     "text": [
      "Cross-Predicted Accuracy: 0.9809902731434532\n"
     ]
    }
   ],
   "source": [
    "accuracy = metrics.r2_score(y, predictions)\n",
    "print('Cross-Predicted Accuracy:', accuracy)"
   ]
  },
  {
   "cell_type": "code",
   "execution_count": 33,
   "metadata": {},
   "outputs": [
    {
     "data": {
      "text/plain": [
       "['model.joblib']"
      ]
     },
     "execution_count": 33,
     "metadata": {},
     "output_type": "execute_result"
    }
   ],
   "source": [
    "joblib.dump(model, 'model.joblib')"
   ]
  },
  {
   "cell_type": "code",
   "execution_count": null,
   "metadata": {},
   "outputs": [],
   "source": []
  }
 ],
 "metadata": {
  "kernelspec": {
   "display_name": "Python 3",
   "language": "python",
   "name": "python3"
  },
  "language_info": {
   "codemirror_mode": {
    "name": "ipython",
    "version": 3
   },
   "file_extension": ".py",
   "mimetype": "text/x-python",
   "name": "python",
   "nbconvert_exporter": "python",
   "pygments_lexer": "ipython3",
   "version": "3.7.1"
  }
 },
 "nbformat": 4,
 "nbformat_minor": 2
}
